{
 "cells": [
  {
   "cell_type": "markdown",
   "metadata": {},
   "source": [
    "# Multiplication of matrix"
   ]
  },
  {
   "cell_type": "markdown",
   "metadata": {},
   "source": [
    "## Hints:\n",
    "    matrix 1's column and matrix 2's rows must have same length.\n",
    "    matrix 1 rows length and martix 2 columns length equal to the final answer rows and columns\n",
    "    "
   ]
  },
  {
   "cell_type": "code",
   "execution_count": 1,
   "metadata": {},
   "outputs": [
    {
     "name": "stdout",
     "output_type": "stream",
     "text": [
      "enter the values for matrix 1: 0\n",
      "enter the values for matrix 1: 0\n",
      "enter the values for matrix 1: 7\n",
      "enter the values for matrix 1: 1\n",
      "enter the values for matrix 1: 6\n",
      "enter the values for matrix 1: 0\n",
      "enter the values for matrix 1: 7\n",
      "enter the values for matrix 1: 2\n",
      "enter the values for matrix 1: 3\n",
      "enter the values for matrix 1: 7\n",
      "enter the values for matrix 1: 0\n",
      "enter the values for matrix 1: 3\n",
      "enter the values for matrix 1: 3\n",
      "enter the values for matrix 1: 2\n",
      "enter the values for matrix 1: 3\n",
      "enter the values for matrix 1: 2\n",
      "enter the values for matrix 2: 1\n",
      "enter the values for matrix 2: 3\n",
      "enter the values for matrix 2: 6\n",
      "enter the values for matrix 2: 0\n",
      "enter the values for matrix 2: 0\n",
      "enter the values for matrix 2: 2\n",
      "enter the values for matrix 2: 2\n",
      "enter the values for matrix 2: 0\n",
      "enter the values for matrix 2: 4\n",
      "enter the values for matrix 2: 2\n",
      "enter the values for matrix 2: 3\n",
      "enter the values for matrix 2: 1\n",
      "Matrix 1\n",
      "0   0   7   1   \n",
      "6   0   7   2   \n",
      "3   7   0   3   \n",
      "3   2   3   2   \n",
      "------------------\n",
      "Matrix 2\n",
      "1   3   6   \n",
      "0   0   2   \n",
      "2   0   4   \n",
      "2   3   1   \n",
      "------------------\n",
      "Multiplication of matrix 1 and matirx 2\n",
      "16  3   29  \n",
      "24  24  66  \n",
      "9   18  35  \n",
      "13  15  36  \n"
     ]
    }
   ],
   "source": [
    "def multiplication_of_matrix(row_p,n,col_q):\n",
    "\n",
    "    matrix1 = [[int(input(\"enter the values for matrix 1: \")) for j in range(n)] for i in range(row_p)]\n",
    "    matrix2 = [[int(input(\"enter the values for matrix 2: \")) for j in range(col_q)] for i in range(n)]\n",
    "\n",
    "    final = [[0 for j in range(col_q)] for i in range(row_p)]\n",
    "    \n",
    "    print(\"Matrix 1\")\n",
    "    for i in range(row_p): #print matrix 1\n",
    "        for j in range(n):\n",
    "            print(format(matrix1[i][j],\"<3\"),end=\" \")\n",
    "        print()\n",
    "        \n",
    "        \n",
    "    print(\"------------------\")\n",
    "    print(\"Matrix 2\")\n",
    "    for i in range(n):  #print matrix 2\n",
    "        for j in range(col_q):\n",
    "            print(format(matrix2[i][j],\"<3\"),end=\" \")\n",
    "        print()\n",
    "    \n",
    "    print(\"------------------\")\n",
    "\n",
    "    for i in range(row_p):  #iterating hte matrix 1 rows\n",
    "        for j in range(col_q):   #iterating the matrix 2 columns\n",
    "            for k in range(n):   #iterating the matrix 1 column and matrix 2 row   \n",
    "                final[i][j] = final[i][j] + matrix1[i][k]*matrix2[k][j]   \n",
    "    print(\"Multiplication of matrix 1 and matirx 2\") \n",
    "    for i in range(row_p):  #print the answer\n",
    "        for j in range(col_q):\n",
    "            print(format(final[i][j],\"<3\"),end=\" \")\n",
    "        print()\n",
    "\n",
    "        \n",
    "multiplication_of_matrix(4,4,3)"
   ]
  }
 ],
 "metadata": {
  "kernelspec": {
   "display_name": "Python 3",
   "language": "python",
   "name": "python3"
  },
  "language_info": {
   "codemirror_mode": {
    "name": "ipython",
    "version": 3
   },
   "file_extension": ".py",
   "mimetype": "text/x-python",
   "name": "python",
   "nbconvert_exporter": "python",
   "pygments_lexer": "ipython3",
   "version": "3.8.0"
  }
 },
 "nbformat": 4,
 "nbformat_minor": 4
}
