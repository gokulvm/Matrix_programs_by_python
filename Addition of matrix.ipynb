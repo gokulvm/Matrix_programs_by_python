{
 "cells": [
  {
   "cell_type": "markdown",
   "metadata": {},
   "source": [
    "# Addition of matrix"
   ]
  },
  {
   "cell_type": "markdown",
   "metadata": {},
   "source": [
    "### Both matrix must have same length of rows and columns."
   ]
  },
  {
   "cell_type": "code",
   "execution_count": 5,
   "metadata": {},
   "outputs": [
    {
     "name": "stdout",
     "output_type": "stream",
     "text": [
      "enter the values for matrix 1: 1\n",
      "enter the values for matrix 1: 2\n",
      "enter the values for matrix 1: 3\n",
      "enter the values for matrix 1: 4\n",
      "enter the values for matrix 2: 1\n",
      "enter the values for matrix 2: 2\n",
      "enter the values for matrix 2: 3\n",
      "enter the values for matrix 2: 4\n",
      "matrix 1\n",
      "1   2   \n",
      "3   4   \n",
      "----------------\n",
      "matrix 2\n",
      "1   2   \n",
      "3   4   \n",
      "----------------\n",
      "final answer\n",
      "2   4   \n",
      "6   8   \n"
     ]
    }
   ],
   "source": [
    "def addition_matrix(row,col):\n",
    "    \n",
    "    matrix1 =[[int(input(\"enter the values for matrix 1: \")) for j in range(col)]for i in range(row)]\n",
    "    matrix2 =[[int(input(\"enter the values for matrix 2: \")) for j in range(col)]for i in range(row)]\n",
    "    #getting the input values from the user\n",
    "    print(\"matrix 1\")\n",
    "    for i in range(row):\n",
    "        for j in range(col):    #print matrix 1\n",
    "            print(format(matrix1[i][j],\"<3\"),end=\" \")\n",
    "        print()\n",
    "    print(\"----------------\")\n",
    "    print(\"matrix 2\")\n",
    "    for i in range(row):\n",
    "        for j in range(col): #print matrix 2\n",
    "            print(format(matrix2[i][j],\"<3\"),end=\" \")\n",
    "        print()\n",
    "    print(\"----------------\") \n",
    "    final = [[0 for j in range(col)]for i in range(row)] #creating new zero matrix to save the answer,this have same size of matrix 1 and 2  \n",
    "        \n",
    "    for i in range(row):\n",
    "        for j in range(col):\n",
    "            final[i][j] = matrix1[i][j] + matrix2[i][j]  #getting the answers by adding both values\n",
    "    \n",
    "    print(\"final answer\")\n",
    "    for i in range(row):\n",
    "        for j in range(col):  #print the answer\n",
    "            print(format(final[i][j],\"<3\"),end=\" \")\n",
    "        print()\n",
    "\n",
    "        \n",
    "addition_matrix(2,2)"
   ]
  }
 ],
 "metadata": {
  "kernelspec": {
   "display_name": "Python 3",
   "language": "python",
   "name": "python3"
  },
  "language_info": {
   "codemirror_mode": {
    "name": "ipython",
    "version": 3
   },
   "file_extension": ".py",
   "mimetype": "text/x-python",
   "name": "python",
   "nbconvert_exporter": "python",
   "pygments_lexer": "ipython3",
   "version": "3.8.0"
  }
 },
 "nbformat": 4,
 "nbformat_minor": 4
}
