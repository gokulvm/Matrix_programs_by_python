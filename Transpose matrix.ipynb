{
 "cells": [
  {
   "cell_type": "markdown",
   "metadata": {},
   "source": [
    "# Transpose matrix"
   ]
  },
  {
   "cell_type": "markdown",
   "metadata": {},
   "source": [
    "### Transpose of a matrix is simply flip the matrix rows and columns "
   ]
  },
  {
   "cell_type": "code",
   "execution_count": 3,
   "metadata": {},
   "outputs": [
    {
     "name": "stdout",
     "output_type": "stream",
     "text": [
      "enter the values : 5\n",
      "enter the values : 1\n",
      "enter the values : 2\n",
      "enter the values : 3\n",
      "enter the values : 4\n",
      "enter the values : 5\n",
      "enter the values : 6\n",
      "enter the values : 7\n",
      "enter the values : 8\n",
      "enter the values : 9\n",
      "enter the values : 4\n",
      "enter the values : 5\n",
      "Original matrix\n",
      "5   1   2   \n",
      "3   4   5   \n",
      "6   7   8   \n",
      "9   4   5   \n",
      "----------------------------\n",
      "transpose matrix\n",
      "5   3   6   9   \n",
      "1   4   7   4   \n",
      "2   5   8   5   \n"
     ]
    }
   ],
   "source": [
    "def transpose_matrix(row,col):\n",
    "    matrix = [[int(input(\"enter the values : \"))for j in range(col)]for i in range(row)] #getting the input\n",
    "    \n",
    "    final = [[0 for j in range(row)]for i in range(col)]  #creating zero matrix to save the answer\n",
    "\n",
    "    for i in range(row):\n",
    "        for j in range(col):\n",
    "            final[j][i] = matrix[i][j]  \n",
    "\n",
    "    print(\"Original matrix\")\n",
    "    for i in range(row):\n",
    "        for j in range(col):\n",
    "            print(format(matrix[i][j],\"<3\"),end=\" \")\n",
    "        print()\n",
    "\n",
    "    print(\"----------------------------\")\n",
    "\n",
    "    print(\"transpose matrix\")\n",
    "    for i in range(col):\n",
    "        for j in range(row):\n",
    "            print(format(final[i][j],\"<3\"),end=\" \")\n",
    "        print()\n",
    "\n",
    "        \n",
    "transpose_matrix(4,3)"
   ]
  }
 ],
 "metadata": {
  "kernelspec": {
   "display_name": "Python 3",
   "language": "python",
   "name": "python3"
  },
  "language_info": {
   "codemirror_mode": {
    "name": "ipython",
    "version": 3
   },
   "file_extension": ".py",
   "mimetype": "text/x-python",
   "name": "python",
   "nbconvert_exporter": "python",
   "pygments_lexer": "ipython3",
   "version": "3.8.0"
  }
 },
 "nbformat": 4,
 "nbformat_minor": 4
}
